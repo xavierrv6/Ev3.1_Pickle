{
 "cells": [
  {
   "cell_type": "code",
   "execution_count": 6,
   "id": "e00c8095",
   "metadata": {},
   "outputs": [
    {
     "name": "stdout",
     "output_type": "stream",
     "text": [
      "[{'nombre': 'Objeto1', 'valor': 10}, {'nombre': 'Objeto2', 'valor': 20}, {'nombre': 'Objeto3', 'valor': 30}]\n",
      "Lista original: [{'nombre': 'Objeto1', 'valor': 10}, {'nombre': 'Objeto2', 'valor': 20}, {'nombre': 'Objeto3', 'valor': 30}]\n",
      "Lista recuperada: [{'nombre': 'Objeto1', 'valor': 10}, {'nombre': 'Objeto2', 'valor': 20}, {'nombre': 'Objeto3', 'valor': 30}]\n",
      "True\n"
     ]
    }
   ],
   "source": [
    "import pickle\n",
    "\n",
    "# Crear una lista de objetos\n",
    "lista_original = [\n",
    "    {'nombre': 'Objeto1', 'valor': 10},\n",
    "    {'nombre': 'Objeto2', 'valor': 20},\n",
    "    {'nombre': 'Objeto3', 'valor': 30}\n",
    "]\n",
    "\n",
    "lista_originalriginal=pickle.dumps(lista_original)\n",
    "print(lista_original)\n",
    "\n",
    "# Serialización y escritura en archivo\n",
    "with open('lista_objetos.pkl', 'wb') as archivo:\n",
    "    pickle.dump(lista_original, archivo)\n",
    "\n",
    "# Deserialización y lectura desde el archivo\n",
    "with open('lista_objetos.pkl', 'rb') as archivo:\n",
    "    lista_recuperada = pickle.load(archivo)\n",
    "\n",
    "# Imprimir la lista original y la recuperada\n",
    "print(\"Lista original:\", lista_original)\n",
    "print(\"Lista recuperada:\", lista_recuperada)\n",
    "print(lista_original==lista_recuperada)"
   ]
  }
 ],
 "metadata": {
  "kernelspec": {
   "display_name": "Python 3 (ipykernel)",
   "language": "python",
   "name": "python3"
  },
  "language_info": {
   "codemirror_mode": {
    "name": "ipython",
    "version": 3
   },
   "file_extension": ".py",
   "mimetype": "text/x-python",
   "name": "python",
   "nbconvert_exporter": "python",
   "pygments_lexer": "ipython3",
   "version": "3.11.5"
  }
 },
 "nbformat": 4,
 "nbformat_minor": 5
}
