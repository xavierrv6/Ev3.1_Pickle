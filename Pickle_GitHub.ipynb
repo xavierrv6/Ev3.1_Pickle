{
 "cells": [
  {
   "cell_type": "code",
   "execution_count": 1,
   "id": "5b499160",
   "metadata": {},
   "outputs": [
    {
     "name": "stdout",
     "output_type": "stream",
     "text": [
      "Instancia original: Xavier 18\n",
      "Instancia recuperada: Xavier 18\n"
     ]
    }
   ],
   "source": [
    "# En este ejemplo, se define una clase Persona con un método constructor. \n",
    "# Se crea una instancia de esta clase, se serializa y se almacena en un archivo. \n",
    "# Luego, se lee el archivo, se deserializa y se recupera la instancia original.\n",
    "\n",
    "import pickle\n",
    "\n",
    "# Definición de una clase\n",
    "class Persona:\n",
    "    def __init__(self, nombre, edad):\n",
    "        self.nombre = nombre\n",
    "        self.edad = edad\n",
    "\n",
    "# Instancia de la clase\n",
    "persona_original = Persona('Xavier', 18)\n",
    "\n",
    "# Serialización y escritura en un archivo pickle\n",
    "with open('persona.pkl', 'wb') as archivo:\n",
    "    pickle.dump(persona_original, archivo)\n",
    "\n",
    "# Deserialización y lectura desde el archivo pickle\n",
    "with open('persona.pkl', 'rb') as archivo:\n",
    "    persona_recuperada = pickle.load(archivo)\n",
    "\n",
    "# Mostrar la instancia original y la instancia recuperada\n",
    "print(\"Instancia original:\", persona_original.nombre, persona_original.edad)\n",
    "print(\"Instancia recuperada:\", persona_recuperada.nombre, persona_recuperada.edad)\n",
    "\n"
   ]
  }
 ],
 "metadata": {
  "kernelspec": {
   "display_name": "Python 3 (ipykernel)",
   "language": "python",
   "name": "python3"
  },
  "language_info": {
   "codemirror_mode": {
    "name": "ipython",
    "version": 3
   },
   "file_extension": ".py",
   "mimetype": "text/x-python",
   "name": "python",
   "nbconvert_exporter": "python",
   "pygments_lexer": "ipython3",
   "version": "3.11.5"
  }
 },
 "nbformat": 4,
 "nbformat_minor": 5
}
